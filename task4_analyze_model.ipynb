{
 "cells": [
  {
   "cell_type": "code",
   "execution_count": 1,
   "metadata": {},
   "outputs": [],
   "source": [
    "import gensim\n",
    "import json"
   ]
  },
  {
   "cell_type": "markdown",
   "metadata": {},
   "source": [
    "# Load Corpus and Train Model"
   ]
  },
  {
   "cell_type": "code",
   "execution_count": 2,
   "metadata": {},
   "outputs": [],
   "source": [
    "INFILE = \"tokenized_corpus.json\""
   ]
  },
  {
   "cell_type": "code",
   "execution_count": 3,
   "metadata": {},
   "outputs": [],
   "source": [
    "with open(INFILE, \"r\") as infile:\n",
    "    tokens = json.loads(infile.readline())"
   ]
  },
  {
   "cell_type": "code",
   "execution_count": 4,
   "metadata": {},
   "outputs": [
    {
     "data": {
      "text/plain": [
       "(6928126, 8518270)"
      ]
     },
     "execution_count": 4,
     "metadata": {},
     "output_type": "execute_result"
    }
   ],
   "source": [
    "model = gensim.models.Word2Vec(\n",
    "    window=10,\n",
    "    min_count=2\n",
    ")\n",
    "\n",
    "model.build_vocab(tokens)\n",
    "\n",
    "model.train(tokens, total_examples=model.corpus_count, epochs=model.epochs)"
   ]
  },
  {
   "cell_type": "markdown",
   "metadata": {},
   "source": [
    "# 1. Exploration of Corpus Through the Model"
   ]
  },
  {
   "cell_type": "markdown",
   "metadata": {},
   "source": [
    "## 1.1 Words Similar to Keywords (`for`, `if`...)"
   ]
  },
  {
   "cell_type": "code",
   "execution_count": 10,
   "metadata": {},
   "outputs": [
    {
     "data": {
      "text/plain": [
       "[('case', 0.5832850337028503),\n",
       " ('userisdefined', 0.4873828887939453),\n",
       " ('x_height', 0.48287323117256165),\n",
       " ('results', 0.48111656308174133),\n",
       " ('isusedby', 0.4804070293903351),\n",
       " ('is_base', 0.47911837697029114),\n",
       " ('tool_child', 0.47467532753944397),\n",
       " ('cancast', 0.4686744809150696),\n",
       " ('range', 0.46649882197380066),\n",
       " ('zip', 0.4658733606338501)]"
      ]
     },
     "execution_count": 10,
     "metadata": {},
     "output_type": "execute_result"
    }
   ],
   "source": [
    "model.wv.most_similar('for')"
   ]
  },
  {
   "cell_type": "code",
   "execution_count": 11,
   "metadata": {},
   "outputs": [
    {
     "data": {
      "text/plain": [
       "[('elif', 0.7684581279754639),\n",
       " ('func_meth', 0.6381980776786804),\n",
       " ('else', 0.6246802806854248),\n",
       " ('outin', 0.6098721027374268),\n",
       " ('features_to', 0.6000626683235168),\n",
       " ('tok', 0.5956555008888245),\n",
       " ('continue', 0.5858328938484192),\n",
       " ('warn_external', 0.5808218717575073),\n",
       " ('iscode', 0.5804414749145508),\n",
       " ('branches', 0.5699276328086853)]"
      ]
     },
     "execution_count": 11,
     "metadata": {},
     "output_type": "execute_result"
    }
   ],
   "source": [
    "model.wv.most_similar('if')"
   ]
  },
  {
   "cell_type": "code",
   "execution_count": 12,
   "metadata": {},
   "outputs": [
    {
     "data": {
      "text/plain": [
       "[('class', 0.5676499009132385),\n",
       " ('mth', 0.5496786236763),\n",
       " ('testgauss', 0.5416885018348694),\n",
       " ('orthogonality', 0.5096248984336853),\n",
       " ('schar', 0.48761487007141113),\n",
       " ('with_wrap', 0.4817056357860565),\n",
       " ('self', 0.48054298758506775),\n",
       " ('test_fft', 0.47273823618888855),\n",
       " ('a_del', 0.46983879804611206),\n",
       " ('vendor_id', 0.4671586751937866)]"
      ]
     },
     "execution_count": 12,
     "metadata": {},
     "output_type": "execute_result"
    }
   ],
   "source": [
    "model.wv.most_similar('def')"
   ]
  },
  {
   "cell_type": "code",
   "execution_count": 13,
   "metadata": {},
   "outputs": [
    {
     "data": {
      "text/plain": [
       "[('super', 0.7258020639419556),\n",
       " ('setter', 0.6831666231155396),\n",
       " ('set_axes', 0.6730579137802124),\n",
       " ('oldopts', 0.6446407437324524),\n",
       " ('get_pad', 0.6311656832695007),\n",
       " ('coeffs', 0.6230141520500183),\n",
       " ('op_dict', 0.6202643513679504),\n",
       " ('inherited', 0.6167618036270142),\n",
       " ('get_minpos', 0.6099565029144287),\n",
       " ('height_arg', 0.60246741771698)]"
      ]
     },
     "execution_count": 13,
     "metadata": {},
     "output_type": "execute_result"
    }
   ],
   "source": [
    "model.wv.most_similar('self')"
   ]
  },
  {
   "cell_type": "markdown",
   "metadata": {},
   "source": [
    "## 1.2 Finding the Outlier"
   ]
  },
  {
   "cell_type": "code",
   "execution_count": 19,
   "metadata": {},
   "outputs": [
    {
     "data": {
      "text/plain": [
       "'ndarray'"
      ]
     },
     "execution_count": 19,
     "metadata": {},
     "output_type": "execute_result"
    }
   ],
   "source": [
    "model.wv.doesnt_match(['int','float','double', 'ndarray'])"
   ]
  },
  {
   "cell_type": "code",
   "execution_count": 20,
   "metadata": {},
   "outputs": [
    {
     "data": {
      "text/plain": [
       "'else'"
      ]
     },
     "execution_count": 20,
     "metadata": {},
     "output_type": "execute_result"
    }
   ],
   "source": [
    "model.wv.doesnt_match(['def','class', 'self', 'super', 'else'])"
   ]
  },
  {
   "cell_type": "markdown",
   "metadata": {},
   "source": [
    "## 1.3 Exploring Vector Definitions"
   ]
  },
  {
   "cell_type": "code",
   "execution_count": 32,
   "metadata": {
    "scrolled": false
   },
   "outputs": [
    {
     "data": {
      "text/plain": [
       "[('numpy', 0.5947498083114624),\n",
       " ('needs_sphinx', 0.5481728315353394),\n",
       " ('doug', 0.534336268901825),\n",
       " ('fftpack', 0.5310518741607666),\n",
       " ('scipy', 0.5253139734268188),\n",
       " ('merges', 0.5177391171455383),\n",
       " ('september', 0.5167557001113892),\n",
       " ('packaging', 0.5018081665039062),\n",
       " ('pallets', 0.49546921253204346),\n",
       " ('reported', 0.4953809082508087)]"
      ]
     },
     "execution_count": 32,
     "metadata": {},
     "output_type": "execute_result"
    }
   ],
   "source": [
    "# What is numpy without ndarrays? Scipy! (see 5th result)\n",
    "# also note: pallets (flask) in list\n",
    "model.wv.most_similar(model.wv['numpy'] - model.wv['ndarray'])"
   ]
  },
  {
   "cell_type": "markdown",
   "metadata": {},
   "source": [
    "## 1.3 Most Common Tokens"
   ]
  },
  {
   "cell_type": "code",
   "execution_count": 34,
   "metadata": {},
   "outputs": [
    {
     "data": {
      "text/plain": [
       "['the', 'self', 'np', 'if', 'def', 'in', 'is', 'of', 'to', 'for']"
      ]
     },
     "execution_count": 34,
     "metadata": {},
     "output_type": "execute_result"
    }
   ],
   "source": [
    "y = model.wv.index_to_key\n",
    "y[:10] # np is a really common modifier within the numpy codebase, too!"
   ]
  }
 ],
 "metadata": {
  "kernelspec": {
   "display_name": "Python 3 (ipykernel)",
   "language": "python",
   "name": "python3"
  },
  "language_info": {
   "codemirror_mode": {
    "name": "ipython",
    "version": 3
   },
   "file_extension": ".py",
   "mimetype": "text/x-python",
   "name": "python",
   "nbconvert_exporter": "python",
   "pygments_lexer": "ipython3",
   "version": "3.8.10"
  }
 },
 "nbformat": 4,
 "nbformat_minor": 4
}
